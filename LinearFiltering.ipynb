{
 "cells": [
  {
   "cell_type": "raw",
   "metadata": {},
   "source": [
    "---\n",
    "title: Linear Filtering\n",
    "execute:\n",
    "  cache: true\n",
    "---"
   ]
  },
  {
   "cell_type": "markdown",
   "metadata": {},
   "source": [
    "## Convolution\n",
    "\n",
    "- **Convolution** = linear combination of pixel values around current position\n",
    "\n",
    "- Uses a **kernel** matrix $H$ = a mask with weight values\n",
    "\n",
    "- Place kernel over every location, multiply, and add\n",
    "\n",
    "![2D Convolution[^srcConv]](img/Convolution2D.gif)\n",
    "\n",
    "[^srcConv]: Image from http://machinelearninguru.com\n",
    "\n",
    "- Also see here: http://machinelearninguru.com/computer_vision/basics/convolution/convolution_layer.html\n",
    "\n",
    "## Effects\n",
    "\n",
    "Some examples here: ![https://en.wikipedia.org/wiki/Kernel_(image_processing)](https://en.wikipedia.org/wiki/Kernel_(image_processing))\n",
    "\n",
    "### Blur\n",
    "\n",
    "$$\n",
    "H = \\begin{bmatrix}\n",
    "\\frac{1}{9} & \\frac{1}{9} & \\frac{1}{9} \\\\\n",
    "\\frac{1}{9} & \\frac{1}{9} & \\frac{1}{9} \\\\\n",
    "\\frac{1}{9} & \\frac{1}{9} & \\frac{1}{9} \\\\\n",
    "\\end{bmatrix}\n",
    "$$"
   ]
  },
  {
   "cell_type": "code",
   "execution_count": null,
   "metadata": {},
   "outputs": [],
   "source": [
    "import cv2\n",
    "import matplotlib.pyplot as plt\n",
    "import numpy as np\n",
    "import scipy as sp\n",
    "import scipy.signal\n",
    "import skimage.color\n",
    "\n",
    "I = cv2.imread('img/lena512.bmp')\n",
    "\n",
    "# Make original image grayscale\n",
    "# Take care: OpenCV images are BGR, not RGB. Must convert\n",
    "I = cv2.cvtColor(I, cv2.COLOR_BGR2RGB)\n",
    "I = skimage.color.rgb2gray(I)\n",
    "\n",
    "# Define convolution kernel\n",
    "H = np.array([[1/9, 1/9, 1/9], [1/9, 1/9, 1/9], [1/9, 1/9, 1/9]])\n",
    "\n",
    "# Apply convolution\n",
    "Iblur = sp.signal.convolve2d(I, H, mode=\"same\")\n",
    "\n",
    "f, axarr = plt.subplots(1,2)\n",
    "axarr[0].imshow(I,  cmap='gray')\n",
    "axarr[1].imshow(Iblur, cmap='gray')"
   ]
  },
  {
   "cell_type": "markdown",
   "metadata": {},
   "source": [
    "### Apply multiple times\n",
    "\n",
    "$$I \\ast H \\ast H \\ast H$$"
   ]
  },
  {
   "cell_type": "code",
   "execution_count": null,
   "metadata": {},
   "outputs": [],
   "source": [
    "Iblur2 = sp.signal.convolve2d(Iblur, H, mode=\"same\")\n",
    "Iblur3 = sp.signal.convolve2d(Iblur2, H, mode=\"same\")\n",
    "\n",
    "plt.imshow(I,  cmap='gray')"
   ]
  },
  {
   "cell_type": "code",
   "execution_count": null,
   "metadata": {},
   "outputs": [],
   "source": [
    "plt.imshow(Iblur,  cmap='gray')"
   ]
  },
  {
   "cell_type": "code",
   "execution_count": null,
   "metadata": {},
   "outputs": [],
   "source": [
    "plt.imshow(Iblur2, cmap='gray')"
   ]
  },
  {
   "cell_type": "code",
   "execution_count": null,
   "metadata": {},
   "outputs": [],
   "source": [
    "plt.imshow(Iblur3, cmap='gray')"
   ]
  },
  {
   "cell_type": "markdown",
   "metadata": {},
   "source": [
    "### Gaussian blur\n",
    "\n",
    "- Large $H$ matrix but values are decaying exponentially, following a Gaussian function centered in the middle\n",
    "\n",
    "- Parameters: $\\sigma$\n",
    "  - $\\sigma$ small = weak blurring\n",
    "  - $\\sigma$ large = strong blurring"
   ]
  },
  {
   "cell_type": "code",
   "execution_count": null,
   "metadata": {},
   "outputs": [],
   "source": [
    "import scipy.ndimage\n",
    "from ipywidgets import interact, interact_manual\n",
    "\n",
    "@interact(sigma=(0.01, 10, 0.1))\n",
    "def do_gauss_filter(sigma):\n",
    "  Igauss = scipy.ndimage.gaussian_filter(I, sigma)\n",
    "  plt.imshow(Igauss, cmap='gray')"
   ]
  },
  {
   "cell_type": "markdown",
   "metadata": {},
   "source": [
    "### Edge detection\n",
    "\n",
    "$$\n",
    "H = \\begin{bmatrix}\n",
    "-1 & -1 & -1 \\\\\n",
    "-1 &  +1 & -1 \\\\\n",
    "-1 & -1 & -1 \\\\\n",
    "\\end{bmatrix}\n",
    "$$"
   ]
  },
  {
   "cell_type": "code",
   "execution_count": null,
   "metadata": {},
   "outputs": [],
   "source": [
    "# Define convolution kernel\n",
    "H = np.array([[-1, -1, -1], [-1, 8, -1], [-1, -1, -1]])\n",
    "\n",
    "# Apply convolution\n",
    "Iedge = sp.signal.convolve2d(I, H, mode=\"same\")\n",
    "plt.imshow(Iedge, cmap='gray')"
   ]
  },
  {
   "cell_type": "markdown",
   "metadata": {},
   "source": [
    "### Edge detection with Sobel operator\n",
    "\n",
    "- Sobel: apply two filters and combine results\n",
    "\n",
    "$$\n",
    "H_1 = \\begin{bmatrix}\n",
    "1 & 0 & -1 \\\\\n",
    "2 & 0 & -2 \\\\\n",
    "1 & 0 & -1 \\\\\n",
    "\\end{bmatrix}\n",
    "\\;\\;\\;\\;\n",
    "H_2 = \\begin{bmatrix}\n",
    "1 & 2 & 1 \\\\\n",
    "0 & 0 & 0 \\\\\n",
    "-1 & -2 & -1 \\\\\n",
    "\\end{bmatrix}\n",
    "$$\n"
   ]
  },
  {
   "cell_type": "code",
   "execution_count": null,
   "metadata": {},
   "outputs": [],
   "source": [
    "# Apply convolution\n",
    "Isobel = sp.ndimage.sobel(I)\n",
    "plt.imshow(Isobel, cmap='gray')"
   ]
  },
  {
   "cell_type": "markdown",
   "metadata": {},
   "source": [
    "The background is grayscale because the convolution results are both positive and negative, and the plotting rescales the 0 value at the middle (128 = gray).\n",
    "\n",
    "If plot the absolute values we get:"
   ]
  },
  {
   "cell_type": "code",
   "execution_count": null,
   "metadata": {},
   "outputs": [],
   "source": [
    "plt.imshow(np.abs(Isobel), cmap='gray')"
   ]
  },
  {
   "cell_type": "markdown",
   "metadata": {},
   "source": [
    "### Sharpen"
   ]
  },
  {
   "cell_type": "code",
   "execution_count": null,
   "metadata": {},
   "outputs": [],
   "source": [
    "from matplotlib.colors import Normalize\n",
    "\n",
    "# Define convolution kernel\n",
    "H = np.array([[0, -1, 0], [-1, 5, -1], [0, -1, 0]])\n",
    "\n",
    "# Apply convolution\n",
    "Isharp = sp.signal.convolve2d(I, H, mode=\"same\")\n",
    "plt.imshow(Isharp, cmap='gray', norm=Normalize(0,1))"
   ]
  },
  {
   "cell_type": "markdown",
   "metadata": {},
   "source": [
    "Repeat:"
   ]
  },
  {
   "cell_type": "code",
   "execution_count": null,
   "metadata": {},
   "outputs": [],
   "source": [
    "Isharp2 = sp.signal.convolve2d(Isharp, H, mode=\"same\")\n",
    "plt.imshow(Isharp2, cmap='gray', norm=Normalize(0,1))"
   ]
  },
  {
   "cell_type": "code",
   "execution_count": null,
   "metadata": {},
   "outputs": [],
   "source": [
    "Isharp3 = sp.signal.convolve2d(Isharp2, H, mode=\"same\")\n",
    "plt.imshow(Isharp3, cmap='gray', norm=Normalize(0,1))"
   ]
  },
  {
   "cell_type": "markdown",
   "metadata": {},
   "source": [
    "### Warnings:\n",
    "\n",
    "- Mathematical operations need the pixel values to be real values in the $[0,1]$ interval, not `uint8`\n",
    "\n",
    "- Mathematical operations might lead to output values outside $[0,1]$ => make sure to normalize data when needed, or clip to $[0,1]$ interval\n",
    "\n",
    "- Sharpening noisy data increases the noise!\n",
    "\n",
    "## Median filtering\n",
    "\n",
    "Replace a pixel with the **median** value in a local window surrounding it.\n",
    "\n",
    "Image"
   ]
  },
  {
   "cell_type": "code",
   "execution_count": null,
   "metadata": {},
   "outputs": [],
   "source": [
    "Imedian = sp.signal.medfilt2d(I, 3)\n",
    "plt.imshow(Imedian, cmap='gray')"
   ]
  },
  {
   "cell_type": "code",
   "execution_count": null,
   "metadata": {},
   "outputs": [],
   "source": [
    "plt.imshow(I, cmap='gray')"
   ]
  }
 ],
 "metadata": {
  "kernelspec": {
   "display_name": "Python 3 (ipykernel)",
   "language": "python",
   "name": "python3"
  }
 },
 "nbformat": 4,
 "nbformat_minor": 4
}
