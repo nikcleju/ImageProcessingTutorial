{
 "cells": [
  {
   "cell_type": "raw",
   "metadata": {},
   "source": [
    "---\n",
    "title: Binarization\n",
    "execute:\n",
    "  cache: true\n",
    "---"
   ]
  },
  {
   "cell_type": "markdown",
   "metadata": {},
   "source": [
    "## Grayscale images\n",
    "\n",
    "Note: This chapter deals with grayscale images only (for now)\n"
   ]
  },
  {
   "cell_type": "code",
   "execution_count": null,
   "metadata": {},
   "outputs": [],
   "source": [
    "import cv2\n",
    "import matplotlib.pyplot as plt\n",
    "import numpy as np\n",
    "import scipy as sp\n",
    "import scipy.signal\n",
    "import skimage.io\n",
    "import skimage.color\n",
    "import skimage.exposure\n",
    "from ipywidgets import interact\n",
    "\n",
    "#I = skimage.data.astronaut()\n",
    "I = skimage.io.imread('img/Trees.jpg')\n",
    "plt.imshow(I)"
   ]
  },
  {
   "cell_type": "code",
   "execution_count": null,
   "metadata": {},
   "outputs": [],
   "source": [
    "I = skimage.color.rgb2gray(I)\n",
    "plt.imshow(I, cmap='gray')"
   ]
  },
  {
   "cell_type": "markdown",
   "metadata": {},
   "source": [
    "## Image histogram\n",
    "\n",
    "Histogram = the number of occurrences of every pixel value"
   ]
  },
  {
   "cell_type": "code",
   "execution_count": null,
   "metadata": {},
   "outputs": [],
   "source": [
    "_,_,_=plt.hist(I.ravel(), bins=256)"
   ]
  },
  {
   "cell_type": "markdown",
   "metadata": {},
   "source": [
    "## Histogram equalization\n",
    "\n",
    "Histogram equalization:\n",
    "\n",
    "- arrange all pixels in order, from smallest to largest \n",
    "- set pixel value proportional to position of pixel in list\n",
    "  - darkest pixel becomes 0\n",
    "  - whitest pixed becomes 255\n",
    "  - the median pixel becomes 127\n",
    "  - ... \n",
    "\n",
    "Advantage: \n",
    "\n",
    "- Increase contrast"
   ]
  },
  {
   "cell_type": "code",
   "execution_count": null,
   "metadata": {},
   "outputs": [],
   "source": [
    "plt.imshow(I, cmap='gray')"
   ]
  },
  {
   "cell_type": "code",
   "execution_count": null,
   "metadata": {},
   "outputs": [],
   "source": [
    "Iheq = skimage.exposure.equalize_hist(I)\n",
    "plt.imshow(Iheq, cmap='gray')"
   ]
  },
  {
   "cell_type": "markdown",
   "metadata": {},
   "source": [
    "Original histogram: "
   ]
  },
  {
   "cell_type": "code",
   "execution_count": null,
   "metadata": {},
   "outputs": [],
   "source": [
    "_,_,_=plt.hist(I.ravel(), bins=256)"
   ]
  },
  {
   "cell_type": "markdown",
   "metadata": {},
   "source": [
    "Final histogram:"
   ]
  },
  {
   "cell_type": "code",
   "execution_count": null,
   "metadata": {},
   "outputs": [],
   "source": [
    "_,_,_=plt.hist(Iheq.ravel(), bins=256)"
   ]
  },
  {
   "cell_type": "markdown",
   "metadata": {},
   "source": [
    "## Adaptive (local) histogram equalization\n",
    "\n",
    "- Apply histogram equalization based on a **local window** around current position\n",
    "\n",
    "Advantage:\n",
    "\n",
    "- images with unequal illumination"
   ]
  },
  {
   "cell_type": "code",
   "execution_count": null,
   "metadata": {},
   "outputs": [],
   "source": [
    "P = skimage.data.page()\n",
    "plt.imshow(P, cmap='gray')"
   ]
  },
  {
   "cell_type": "code",
   "execution_count": null,
   "metadata": {},
   "outputs": [],
   "source": [
    "Pheq = skimage.exposure.equalize_hist(P)\n",
    "plt.imshow(Pheq, cmap='gray')"
   ]
  },
  {
   "cell_type": "code",
   "execution_count": null,
   "metadata": {},
   "outputs": [],
   "source": [
    "Pheqadapt = skimage.exposure.equalize_adapthist(P)\n",
    "plt.imshow(Pheqadapt, cmap='gray')"
   ]
  },
  {
   "cell_type": "code",
   "execution_count": null,
   "metadata": {},
   "outputs": [],
   "source": [
    "_,_,_=plt.hist(Pheqadapt.ravel(), bins=256)"
   ]
  },
  {
   "cell_type": "markdown",
   "metadata": {},
   "source": [
    "## Thresholding\n",
    "\n",
    "Thresholding = Make an image binary, by comparing with a threshold T\n",
    "\n",
    "Example: Threshold $T = 128$"
   ]
  },
  {
   "cell_type": "code",
   "execution_count": null,
   "metadata": {},
   "outputs": [],
   "source": [
    "plt.imshow(P > 128, cmap='gray')"
   ]
  },
  {
   "cell_type": "markdown",
   "metadata": {},
   "source": [
    "Example: Threshold $T = 165$"
   ]
  },
  {
   "cell_type": "code",
   "execution_count": null,
   "metadata": {},
   "outputs": [],
   "source": [
    "plt.imshow(P > 165, cmap='gray')"
   ]
  },
  {
   "cell_type": "code",
   "execution_count": null,
   "metadata": {},
   "outputs": [],
   "source": [
    "@interact(T=(0,255,1))\n",
    "def thresh(T):\n",
    "  plt.imshow(P > T, cmap='gray')"
   ]
  },
  {
   "cell_type": "markdown",
   "metadata": {},
   "source": [
    "Thresholding the image after adaptive equalization of histogram:"
   ]
  },
  {
   "cell_type": "code",
   "execution_count": null,
   "metadata": {},
   "outputs": [],
   "source": [
    "plt.imshow(Pheqadapt > 0.30, cmap='gray')"
   ]
  },
  {
   "cell_type": "code",
   "execution_count": null,
   "metadata": {},
   "outputs": [],
   "source": [
    "@interact(T=(0,1,0.01))\n",
    "def thresh(T):\n",
    "  plt.imshow(Pheqadapt > T, cmap='gray')"
   ]
  },
  {
   "cell_type": "markdown",
   "metadata": {},
   "source": [
    "## Automatic thresholding with Otsu's method\n",
    "\n",
    "- Find threshold such as to **minimize intra-class variance**\n",
    "  - equivalently, maximize inter-class variance\n",
    "\n",
    "![Otsu's method explanation](img/Otsu.jpg)"
   ]
  },
  {
   "cell_type": "code",
   "execution_count": null,
   "metadata": {},
   "outputs": [],
   "source": [
    "from skimage.filters import threshold_otsu\n",
    "\n",
    "T_Otsu = threshold_otsu(Pheqadapt)\n",
    "print(f\"Threshold found by Otsu method = {T_Otsu}\")\n",
    "plt.imshow(Pheqadapt > T_Otsu, cmap='gray')"
   ]
  },
  {
   "cell_type": "markdown",
   "metadata": {},
   "source": [
    "## Adaptive thresholding\n",
    "\n",
    "Adaptove = Find threshold based only on the **surrounding region** of a pixel\n",
    "  \n",
    "- Can use any method: mean value of region, Otsu, etc\n",
    "\n",
    "- `threshold_local()` from `skimage` package: specify region size, and an offset to subtract from region mean\n"
   ]
  },
  {
   "cell_type": "code",
   "execution_count": null,
   "metadata": {},
   "outputs": [],
   "source": [
    "from skimage.filters import threshold_local\n",
    "\n",
    "def thresh_local(block_size=25, offset=0.1):\n",
    "  Tadapt = threshold_local(Pheqadapt, block_size=block_size, offset=offset)\n",
    "  plt.imshow(Pheqadapt > Tadapt, cmap='gray')\n",
    "  return np.array(Pheqadapt > Tadapt, dtype=int)\n",
    "\n",
    "Pthr = thresh_local()\n",
    "\n",
    "skimage.io.imsave('img/PageBinary.png', Pthr, check_contrast=False)"
   ]
  },
  {
   "cell_type": "markdown",
   "metadata": {},
   "source": [
    "Interactive:"
   ]
  },
  {
   "cell_type": "code",
   "execution_count": null,
   "metadata": {},
   "outputs": [],
   "source": [
    "from skimage.filters import threshold_local\n",
    "\n",
    "@interact(block_size=(3, 128, 2), offset=(-0.2, 0.2, 0.01))\n",
    "def thresh_local(block_size, offset):\n",
    "  Tadapt = threshold_local(Pheqadapt, block_size=block_size, offset=offset)\n",
    "  plt.imshow(Pheqadapt > Tadapt, cmap='gray')"
   ]
  }
 ],
 "metadata": {
  "kernelspec": {
   "display_name": "Python 3 (ipykernel)",
   "language": "python",
   "name": "python3"
  }
 },
 "nbformat": 4,
 "nbformat_minor": 4
}
