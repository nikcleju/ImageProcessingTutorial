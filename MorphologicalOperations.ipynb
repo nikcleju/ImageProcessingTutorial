{
 "cells": [
  {
   "cell_type": "raw",
   "metadata": {},
   "source": [
    "---\n",
    "title: Morphological Operations\n",
    "execute:\n",
    "  cache: true\n",
    "---"
   ]
  },
  {
   "cell_type": "markdown",
   "metadata": {},
   "source": [
    "## What are they\n",
    "\n",
    "Operations on **binary images** to fill in small gaps, eliminate spurious points.\n",
    "\n",
    "## Sample image\n",
    "\n",
    "Let's start from a binary image:"
   ]
  },
  {
   "cell_type": "code",
   "execution_count": null,
   "metadata": {},
   "outputs": [],
   "source": [
    "import cv2\n",
    "import matplotlib.pyplot as plt\n",
    "import numpy as np\n",
    "import scipy as sp\n",
    "import scipy.signal\n",
    "import skimage.io\n",
    "import skimage.color\n",
    "import skimage.exposure\n",
    "from ipywidgets import interact\n",
    "\n",
    "I = skimage.io.imread('img/MorphoImage.jpg')\n",
    "I = skimage.color.rgb2gray(I)\n",
    "print(I)\n",
    "I = (I > 0.5).astype('uint8')\n",
    "plt.imshow(I, cmap='gray')"
   ]
  },
  {
   "cell_type": "markdown",
   "metadata": {},
   "source": [
    "## Operations\n",
    "\n",
    "- Dilation\n",
    "- Erosion\n",
    "- Opening \n",
    "- Closing\n",
    "\n",
    "## Dilation\n",
    "\n",
    "Consider a small **structuring element**, e.g. a disk of radius 3 px\n",
    "\n",
    "For every black pixel in the image:\n",
    "\n",
    "- Place the structuring element on that position\n",
    "- If it overlaps with the object (white), turn it white\n",
    "- Otherwise, it remains black\n",
    "\n",
    "Dilation **grows** objects and eliminates **small gaps**\n",
    "\n",
    "![Dilation and Erosion[^srcDilEros]](img/DilationAndErosion.jpg)\n",
    "\n",
    "[^srcDilEros]: Image from ![https://www.ris-ai.com/python-opencv-basic-operations-on-images](https://www.ris-ai.com/python-opencv-basic-operations-on-images)"
   ]
  },
  {
   "cell_type": "code",
   "execution_count": null,
   "metadata": {},
   "outputs": [],
   "source": [
    "import skimage.morphology\n",
    "\n",
    "elem = skimage.morphology.disk(2)\n",
    "Idil = skimage.morphology.dilation(I, elem)\n",
    "plt.imshow(Idil, cmap=plt.cm.gray)"
   ]
  },
  {
   "cell_type": "markdown",
   "metadata": {},
   "source": [
    "Interactive:"
   ]
  },
  {
   "cell_type": "code",
   "execution_count": null,
   "metadata": {},
   "outputs": [],
   "source": [
    "@interact(radius=(1,10,1))\n",
    "def dil(radius):\n",
    "  elem = skimage.morphology.disk(radius)\n",
    "  Idil = skimage.morphology.dilation(I, elem)\n",
    "  plt.imshow(Idil, cmap=plt.cm.gray)"
   ]
  },
  {
   "cell_type": "markdown",
   "metadata": {},
   "source": [
    "## Erosion\n",
    "\n",
    "For every white pixel in the image:\n",
    "\n",
    "- Place the structuring element on that position\n",
    "- If it overlaps with any black pixel, turn it to black\n",
    "- Otherwise, it remains white\n",
    "\n",
    "Erosion **shrinks** objects and eliminates spurious small points.\n",
    "\n",
    "![Dilation and Erosion[^srcDilEros]](img/DilationAndErosion.jpg)"
   ]
  },
  {
   "cell_type": "code",
   "execution_count": null,
   "metadata": {},
   "outputs": [],
   "source": [
    "Iers = skimage.morphology.erosion(I, elem)\n",
    "plt.imshow(Iers, cmap=plt.cm.gray)"
   ]
  },
  {
   "cell_type": "markdown",
   "metadata": {},
   "source": [
    "Interactive:"
   ]
  },
  {
   "cell_type": "code",
   "execution_count": null,
   "metadata": {},
   "outputs": [],
   "source": [
    "@interact(radius=(1,10,1))\n",
    "def ers(radius):\n",
    "  elem = skimage.morphology.disk(radius)\n",
    "  Iers = skimage.morphology.erosion(I, elem)\n",
    "  plt.imshow(Iers, cmap=plt.cm.gray)"
   ]
  },
  {
   "cell_type": "markdown",
   "metadata": {},
   "source": [
    "## Closing\n",
    "\n",
    "Closing = Dilation followed by Erosion\n",
    "\n",
    "Small gaps are removed"
   ]
  },
  {
   "cell_type": "code",
   "execution_count": null,
   "metadata": {},
   "outputs": [],
   "source": [
    "Iclose = skimage.morphology.closing(I, elem)\n",
    "plt.imshow(Iclose, cmap=plt.cm.gray)"
   ]
  },
  {
   "cell_type": "markdown",
   "metadata": {},
   "source": [
    "Interactive:"
   ]
  },
  {
   "cell_type": "code",
   "execution_count": null,
   "metadata": {},
   "outputs": [],
   "source": [
    "@interact(radius=(1,10,1))\n",
    "def clos(radius):\n",
    "  elem = skimage.morphology.disk(radius)\n",
    "  Iclose = skimage.morphology.closing(I, elem)\n",
    "  plt.imshow(Iclose, cmap=plt.cm.gray)"
   ]
  },
  {
   "cell_type": "markdown",
   "metadata": {},
   "source": [
    "## Opening\n",
    "\n",
    "Opening = Erosion followed by Dilation\n",
    "\n",
    "Small objects are removed"
   ]
  },
  {
   "cell_type": "code",
   "execution_count": null,
   "metadata": {},
   "outputs": [],
   "source": [
    "Iopen = skimage.morphology.opening(I, elem)\n",
    "plt.imshow(Iopen, cmap=plt.cm.gray)"
   ]
  },
  {
   "cell_type": "markdown",
   "metadata": {},
   "source": [
    "Interactive:"
   ]
  },
  {
   "cell_type": "code",
   "execution_count": null,
   "metadata": {},
   "outputs": [],
   "source": [
    "@interact(radius=(1,10,1))\n",
    "def opn(radius):\n",
    "  elem = skimage.morphology.disk(radius)\n",
    "  Iopen = skimage.morphology.opening(I, elem)\n",
    "  plt.imshow(Iopen, cmap=plt.cm.gray)"
   ]
  },
  {
   "cell_type": "markdown",
   "metadata": {},
   "source": [
    "## Sequence\n",
    "\n",
    "Let's try an opening + closing"
   ]
  },
  {
   "cell_type": "code",
   "execution_count": null,
   "metadata": {},
   "outputs": [],
   "source": [
    "elem = skimage.morphology.disk(3)\n",
    "Iopen = skimage.morphology.opening(I, elem)\n",
    "plt.imshow(Iopen, cmap=plt.cm.gray)\n",
    "Iclose = skimage.morphology.closing(Iopen, elem)\n",
    "plt.imshow(Iclose, cmap=plt.cm.gray)"
   ]
  },
  {
   "cell_type": "markdown",
   "metadata": {},
   "source": [
    "## Other operations\n",
    "\n",
    "See here: [https://scikit-image.org/docs/stable/auto_examples/applications/plot_morphology.html](https://scikit-image.org/docs/stable/auto_examples/applications/plot_morphology.html)"
   ]
  }
 ],
 "metadata": {
  "kernelspec": {
   "display_name": "Python 3 (ipykernel)",
   "language": "python",
   "name": "python3"
  }
 },
 "nbformat": 4,
 "nbformat_minor": 4
}
