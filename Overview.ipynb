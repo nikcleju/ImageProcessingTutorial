{
 "cells": [
  {
   "cell_type": "raw",
   "metadata": {},
   "source": [
    "---\n",
    "title: Overview\n",
    "execute: \n",
    "  cache: true\n",
    "---"
   ]
  },
  {
   "cell_type": "markdown",
   "metadata": {},
   "source": [
    "## Outline:\n",
    "\n",
    "1. Geometric Transformations\n",
    "1. Linear filtering\n",
    "1. Image binarization\n",
    "   1. Histogram equalization\n",
    "   1. Thresholding\n",
    "   2. Adaptive thresholding\n",
    "   1. Otsu's method\n",
    "3. Morphological operations"
   ]
  }
 ],
 "metadata": {
  "kernelspec": {
   "display_name": "Python 3 (ipykernel)",
   "language": "python",
   "name": "python3"
  }
 },
 "nbformat": 4,
 "nbformat_minor": 4
}
